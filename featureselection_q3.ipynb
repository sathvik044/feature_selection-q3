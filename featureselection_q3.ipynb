{
  "nbformat": 4,
  "nbformat_minor": 0,
  "metadata": {
    "colab": {
      "provenance": [],
      "authorship_tag": "ABX9TyPjNrWB80wMu7OXclhCeg9c",
      "include_colab_link": true
    },
    "kernelspec": {
      "name": "python3",
      "display_name": "Python 3"
    },
    "language_info": {
      "name": "python"
    }
  },
  "cells": [
    {
      "cell_type": "markdown",
      "metadata": {
        "id": "view-in-github",
        "colab_type": "text"
      },
      "source": [
        "<a href=\"https://colab.research.google.com/github/sathvik044/feature_selection-q3/blob/main/featureselection_q3.ipynb\" target=\"_parent\"><img src=\"https://colab.research.google.com/assets/colab-badge.svg\" alt=\"Open In Colab\"/></a>"
      ]
    },
    {
      "cell_type": "code",
      "execution_count": 2,
      "metadata": {
        "colab": {
          "base_uri": "https://localhost:8080/"
        },
        "id": "-BHySw5hD8PS",
        "outputId": "d972c118-3ca5-47be-c4f8-286e6b44c4f2"
      },
      "outputs": [
        {
          "output_type": "stream",
          "name": "stdout",
          "text": [
            "Accuracy after removing highly correlated features: 0.7467532467532467\n"
          ]
        }
      ],
      "source": [
        "import pandas as pd\n",
        "import numpy as np\n",
        "from sklearn.model_selection import train_test_split\n",
        "from sklearn.linear_model import LogisticRegression\n",
        "from sklearn.metrics import accuracy_score\n",
        "\n",
        "df = pd.read_csv('/content/diabetes.csv')\n",
        "\n",
        "# Correlation matrix\n",
        "corr_matrix = df.corr().abs()\n",
        "\n",
        "# Upper triangle of the correlation matrix\n",
        "upper = corr_matrix.where(np.triu(np.ones(corr_matrix.shape), k=1).astype(bool))\n",
        "\n",
        "# Identify highly correlated features (correlation > 0.8)\n",
        "to_drop = [column for column in upper.columns if any(upper[column] > 0.8)]\n",
        "\n",
        "df_reduced = df.drop(to_drop, axis=1)\n",
        "\n",
        "X = df_reduced.drop('Outcome', axis=1)\n",
        "y = df_reduced['Outcome']\n",
        "X_train, X_test, y_train, y_test = train_test_split(X, y, test_size=0.2, random_state=42)\n",
        "\n",
        "model = LogisticRegression(max_iter=1000)\n",
        "model.fit(X_train, y_train)\n",
        "\n",
        "y_pred = model.predict(X_test)\n",
        "print(f\"Accuracy after removing highly correlated features: {accuracy_score(y_test, y_pred)}\")\n",
        "\n",
        "\n"
      ]
    }
  ]
}